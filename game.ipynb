{
  "nbformat": 4,
  "nbformat_minor": 0,
  "metadata": {
    "colab": {
      "provenance": []
    },
    "kernelspec": {
      "name": "python3",
      "display_name": "Python 3"
    },
    "language_info": {
      "name": "python"
    }
  },
  "cells": [
    {
      "cell_type": "code",
      "execution_count": 1,
      "metadata": {
        "colab": {
          "base_uri": "https://localhost:8080/"
        },
        "id": "waXfIrQI9Wie",
        "outputId": "26dd8a6c-44a4-4568-8ab9-9d0d933f0405"
      },
      "outputs": [
        {
          "output_type": "stream",
          "name": "stdout",
          "text": [
            "Welcome to the Adventure Game!\n",
            "You find yourself standing in front of two doors.\n",
            "Do you want to go through the 'left' door or the 'right' door?\n",
            "> left\n",
            "You enter the left door and find a treasure chest.\n",
            "Do you want to 'open' it or 'leave' it?\n",
            "> open it\n",
            "You leave the treasure behind and continue your adventure.\n",
            "Thanks for playing!\n"
          ]
        }
      ],
      "source": [
        "import time\n",
        "\n",
        "def intro():\n",
        "    print(\"Welcome to the Adventure Game!\")\n",
        "    print(\"You find yourself standing in front of two doors.\")\n",
        "    print(\"Do you want to go through the 'left' door or the 'right' door?\")\n",
        "\n",
        "def choose_door():\n",
        "    while True:\n",
        "        choice = input(\"> \").lower()\n",
        "        if choice == \"left\":\n",
        "            return \"left\"\n",
        "        elif choice == \"right\":\n",
        "            return \"right\"\n",
        "        else:\n",
        "            print(\"Invalid input. Please choose 'left' or 'right'.\")\n",
        "\n",
        "def left_door():\n",
        "    print(\"You enter the left door and find a treasure chest.\")\n",
        "    print(\"Do you want to 'open' it or 'leave' it?\")\n",
        "    choice = input(\"> \").lower()\n",
        "    if choice == \"open\":\n",
        "        print(\"Congratulations! You found a treasure chest full of gold.\")\n",
        "    else:\n",
        "        print(\"You leave the treasure behind and continue your adventure.\")\n",
        "\n",
        "def right_door():\n",
        "    print(\"You enter the right door and find a hungry lion!\")\n",
        "    print(\"Do you want to 'fight' the lion or 'run' away?\")\n",
        "    choice = input(\"> \").lower()\n",
        "    if choice == \"fight\":\n",
        "        print(\"The lion is too powerful. You didn't survive.\")\n",
        "    else:\n",
        "        print(\"You wisely run away and escape from the lion's den.\")\n",
        "\n",
        "def main():\n",
        "    intro()\n",
        "    door_choice = choose_door()\n",
        "\n",
        "    if door_choice == \"left\":\n",
        "        left_door()\n",
        "    else:\n",
        "        right_door()\n",
        "\n",
        "    print(\"Thanks for playing!\")\n",
        "\n",
        "if __name__ == \"__main__\":\n",
        "    main()\n"
      ]
    },
    {
      "cell_type": "code",
      "source": [],
      "metadata": {
        "id": "XU0W_oe69YwT"
      },
      "execution_count": null,
      "outputs": []
    }
  ]
}